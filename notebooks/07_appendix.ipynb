{
 "cells": [
  {
   "cell_type": "markdown",
   "id": "82decfd3",
   "metadata": {},
   "source": [
    "## Using SAT-solvers"
   ]
  },
  {
   "cell_type": "code",
   "execution_count": 2,
   "id": "3c4d150c",
   "metadata": {},
   "outputs": [
    {
     "name": "stdout",
     "output_type": "stream",
     "text": [
      "[-1, 2, -3]\n",
      "UNSAT\n"
     ]
    }
   ],
   "source": [
    "from pycosat import solve\n",
    "\n",
    "print(solve([[1, -2, -3], [3, -1], [2, 3]]))\n",
    "print(solve([[-2, 3], [2, 1], [-3], [3, -1]]))"
   ]
  }
 ],
 "metadata": {
  "kernelspec": {
   "display_name": "Python 3 (ipykernel)",
   "language": "python",
   "name": "python3"
  },
  "language_info": {
   "codemirror_mode": {
    "name": "ipython",
    "version": 3
   },
   "file_extension": ".py",
   "mimetype": "text/x-python",
   "name": "python",
   "nbconvert_exporter": "python",
   "pygments_lexer": "ipython3",
   "version": "3.9.13"
  }
 },
 "nbformat": 4,
 "nbformat_minor": 5
}
