{
 "cells": [
  {
   "cell_type": "markdown",
   "id": "106f6e5e",
   "metadata": {},
   "source": [
    "# Plow Truck\n",
    "\n",
    "A plow truck needs to clean every street and get back to its original location. Help it find the shortest route for this. Try it in an [interactive puzzle](https://discrete-math-puzzles.github.io/puzzles/plow-truck/index.html)!\n",
    "\n",
    "![](images/plow_truck.png)"
   ]
  },
  {
   "cell_type": "markdown",
   "id": "1218bb09",
   "metadata": {},
   "source": [
    "## Solution in Python"
   ]
  },
  {
   "cell_type": "code",
   "execution_count": 1,
   "id": "7eb64415",
   "metadata": {},
   "outputs": [],
   "source": [
    "import networkx as nx\n",
    "\n",
    "grid = nx.MultiGraph(nx.grid_2d_graph(5, 5))\n",
    "grid = nx.eulerize(grid)\n",
    "\n",
    "drawing = nx.nx_agraph.to_agraph(grid)\n",
    "drawing.layout()\n",
    "drawing.draw('plow_truck_grid.png')"
   ]
  },
  {
   "cell_type": "markdown",
   "id": "7df9a218",
   "metadata": {},
   "source": [
    "![](plow_truck_grid.png)"
   ]
  },
  {
   "cell_type": "code",
   "execution_count": 2,
   "id": "5a3767fe",
   "metadata": {},
   "outputs": [
    {
     "name": "stdout",
     "output_type": "stream",
     "text": [
      "(0, 0)→(0, 1)→(0, 2)→(0, 3)→(0, 4)→(1, 4)→(2, 4)→(3, 4)→(3, 3)→(3, 4)→(4, 4)→(4, 3)→(3, 3)→(4, 3)→(4, 2)→(4, 1)→(4, 2)→(3, 2)→(3, 3)→(2, 3)→(2, 4)→(1, 4)→(1, 3)→(2, 3)→(2, 2)→(3, 2)→(3, 1)→(4, 1)→(4, 0)→(3, 0)→(3, 1)→(2, 1)→(2, 2)→(1, 2)→(1, 3)→(0, 3)→(0, 2)→(1, 2)→(1, 1)→(2, 1)→(2, 0)→(3, 0)→(2, 0)→(1, 0)→(1, 1)→(0, 1)→(0, 0)→(1, 0)\n"
     ]
    }
   ],
   "source": [
    "print('→'.join(str(edge[0]) for edge in nx.eulerian_circuit(grid, (0, 0))))"
   ]
  },
  {
   "cell_type": "code",
   "execution_count": null,
   "id": "e0a61717",
   "metadata": {},
   "outputs": [],
   "source": []
  }
 ],
 "metadata": {
  "kernelspec": {
   "display_name": "Python 3 (ipykernel)",
   "language": "python",
   "name": "python3"
  },
  "language_info": {
   "codemirror_mode": {
    "name": "ipython",
    "version": 3
   },
   "file_extension": ".py",
   "mimetype": "text/x-python",
   "name": "python",
   "nbconvert_exporter": "python",
   "pygments_lexer": "ipython3",
   "version": "3.9.13"
  }
 },
 "nbformat": 4,
 "nbformat_minor": 5
}
