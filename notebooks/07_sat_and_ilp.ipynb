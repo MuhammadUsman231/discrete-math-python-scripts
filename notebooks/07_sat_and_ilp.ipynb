{
 "cells": [
  {
   "cell_type": "code",
   "execution_count": null,
   "id": "06efef65",
   "metadata": {},
   "outputs": [],
   "source": [
    "# install packages\n",
    "!pip install pycosat\n",
    "!pip install python-sat[pblib,aiger]\n",
    "!pip install mip"
   ]
  },
  {
   "cell_type": "markdown",
   "id": "1c09b0da",
   "metadata": {},
   "source": [
    "## Using SAT-solvers"
   ]
  },
  {
   "cell_type": "code",
   "execution_count": null,
   "id": "06dc0d0c",
   "metadata": {},
   "outputs": [],
   "source": [
    "from pycosat import solve\n",
    "\n",
    "print(solve([[1, -2, -3], [3, -1], [2, 3]]))\n",
    "print(solve([[-2, 3], [2, 1], [-3], [3, -1]]))"
   ]
  }
 ],
 "metadata": {
  "kernelspec": {
   "display_name": "Python 3 (ipykernel)",
   "language": "python",
   "name": "python3"
  },
  "language_info": {
   "codemirror_mode": {
    "name": "ipython",
    "version": 3
   },
   "file_extension": ".py",
   "mimetype": "text/x-python",
   "name": "python",
   "nbconvert_exporter": "python",
   "pygments_lexer": "ipython3",
   "version": "3.9.13"
  }
 },
 "nbformat": 4,
 "nbformat_minor": 5
}
