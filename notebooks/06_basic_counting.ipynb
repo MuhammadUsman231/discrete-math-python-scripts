{
 "cells": [
  {
   "cell_type": "markdown",
   "id": "387c45ac",
   "metadata": {},
   "source": [
    "## Sum Rule"
   ]
  },
  {
   "cell_type": "code",
   "execution_count": null,
   "id": "2ba9abf1",
   "metadata": {},
   "outputs": [],
   "source": [
    "for _ in range(3):\n",
    "    print('Hi!')\n",
    "for _ in range(5):\n",
    "    print('Hi!')"
   ]
  },
  {
   "cell_type": "markdown",
   "id": "9276d343",
   "metadata": {},
   "source": [
    "Listing all integers from 1 to 10 that are divisible by either 2 or 3."
   ]
  },
  {
   "cell_type": "code",
   "execution_count": null,
   "id": "f56ed758",
   "metadata": {},
   "outputs": [],
   "source": [
    "print([n for n in range(1, 11) if n % 2 == 0 or n % 3 == 0])"
   ]
  },
  {
   "cell_type": "markdown",
   "id": "3e012685",
   "metadata": {},
   "source": [
    "### Sets"
   ]
  },
  {
   "cell_type": "code",
   "execution_count": null,
   "id": "69dbb3cc",
   "metadata": {},
   "outputs": [],
   "source": [
    "a = {5, 2, 8, 17, 2}\n",
    "b = {3, 17, 2, 19, 6, 17}\n",
    "\n",
    "print(f'Duplicates are removed automatically:')\n",
    "print(f'a={a}')\n",
    "print(f'b={b}')\n",
    "print()\n",
    "\n",
    "print(f'Size of {a} is {len(a)}')\n",
    "print(f'Size of {b} is {len(b)}')\n",
    "print()\n",
    "\n",
    "print(f'2 belongs to {a}: {2 in a}')\n",
    "print(f'5 belongs to {a}: {3 in a}')\n",
    "print(f'2 belongs to {b}: {2 in b}')\n",
    "print(f'5 belongs to {b}: {5 in b}')\n",
    "print()\n",
    "\n",
    "print(f'Union of {a} and {b}: {a.union(b)}')\n",
    "print(f'Intersection of {a} and {b}: {a.intersection(b)}')\n",
    "print()\n",
    "\n",
    "print(f'Set building:')\n",
    "print(f'Set of odd numbers of {a} is {set(x for x in a if x % 2 == 1)}')\n",
    "print(f'Set of numbers from {b} that do not belong to {a}:'\n",
    "      f' {set(x for x in b if x not in a)}')\n"
   ]
  },
  {
   "cell_type": "markdown",
   "id": "1647a8a5",
   "metadata": {},
   "source": [
    "## Recursive Counting\n",
    "\n",
    "Listing all paths from $s$ to $t$ in the following network.\n",
    "<img src=\"images/network.png\" width=\"50%\">"
   ]
  },
  {
   "cell_type": "code",
   "execution_count": 1,
   "id": "4ede23c2",
   "metadata": {},
   "outputs": [
    {
     "name": "stdout",
     "output_type": "stream",
     "text": [
      "zsh:1: command not found: pip\n",
      "['s', 'a', 'c', 'd', 't']\n",
      "['s', 'a', 'c', 't']\n",
      "['s', 'a', 'd', 't']\n",
      "['s', 'b', 'c', 'd', 't']\n",
      "['s', 'b', 'c', 't']\n",
      "['s', 'b', 'e', 't']\n"
     ]
    }
   ],
   "source": [
    "!pip install pygraphviz\n",
    "\n",
    "from networkx import DiGraph, all_simple_paths, nx_agraph\n",
    "\n",
    "edges = [('s', 'a'), ('s', 'b'), ('a', 'c'), ('a', 'd'), ('b', 'c'),\n",
    "         ('b', 'e'), ('c', 'd'), ('c', 't'), ('d', 't'), ('e', 't')]\n",
    "\n",
    "graph = DiGraph(edges)\n",
    "for path in all_simple_paths(graph, source='s', target='t'):\n",
    "    print(path)\n",
    "nx_agraph.to_agraph(graph).draw('stnetwork.png', prog='dot')"
   ]
  },
  {
   "cell_type": "markdown",
   "id": "cf4c5544",
   "metadata": {},
   "source": [
    "<img src=\"stnetwork.png\">"
   ]
  },
  {
   "cell_type": "markdown",
   "id": "24d1d3c3",
   "metadata": {},
   "source": [
    "## Product Rule"
   ]
  },
  {
   "cell_type": "code",
   "execution_count": null,
   "id": "89471506",
   "metadata": {},
   "outputs": [],
   "source": [
    "for letter in {'e', 'u'}:\n",
    "    for digit in {8, 2, 5}:\n",
    "        print(letter, digit)"
   ]
  },
  {
   "cell_type": "code",
   "execution_count": null,
   "id": "4d0127ef",
   "metadata": {},
   "outputs": [],
   "source": [
    "from itertools import product\n",
    "\n",
    "for t in product({'e', 'u'}, {8, 2, 5}):\n",
    "    print(*t, sep='')"
   ]
  },
  {
   "cell_type": "markdown",
   "id": "5cce94a8",
   "metadata": {},
   "source": [
    "## Tuples and Permutations\n",
    "\n",
    "Enumerating all passwords consisting of two lower case Latin letters."
   ]
  },
  {
   "cell_type": "code",
   "execution_count": null,
   "id": "fcebf4b9",
   "metadata": {},
   "outputs": [],
   "source": [
    "from itertools import product\n",
    "\n",
    "for number, password in enumerate(\n",
    "        product('abcdefghijklmnopqrstuvwxyz', repeat=2)\n",
    "):\n",
    "    print(number, ''.join(password), end=' ')"
   ]
  },
  {
   "cell_type": "markdown",
   "id": "a88db110",
   "metadata": {},
   "source": [
    "Counting integers from 0 to 9999 having exactly one digit 7."
   ]
  },
  {
   "cell_type": "code",
   "execution_count": null,
   "id": "df6c6d04",
   "metadata": {},
   "outputs": [],
   "source": [
    "from itertools import product\n",
    "\n",
    "print(len([n for n in range(10000)\n",
    "           if str(n).count('7') == 1]))\n",
    "print(len([t for t in product(range(10), repeat=4)\n",
    "           if t.count(7) == 1]))"
   ]
  },
  {
   "cell_type": "markdown",
   "id": "445d48a9",
   "metadata": {},
   "source": [
    "Counting integers from 0 to 9999 having *at least* one digit 7."
   ]
  },
  {
   "cell_type": "code",
   "execution_count": null,
   "id": "c58f1909",
   "metadata": {},
   "outputs": [],
   "source": [
    "print(len([n for n in range(10000) if '7' in str(n)]))"
   ]
  },
  {
   "cell_type": "markdown",
   "id": "c5571544",
   "metadata": {},
   "source": [
    "### Permutations"
   ]
  },
  {
   "cell_type": "code",
   "execution_count": null,
   "id": "11955472",
   "metadata": {},
   "outputs": [],
   "source": [
    "from itertools import permutations\n",
    "\n",
    "for p in permutations('abc', 2):\n",
    "    print(*p)"
   ]
  },
  {
   "cell_type": "code",
   "execution_count": null,
   "id": "01ebbf1d",
   "metadata": {},
   "outputs": [],
   "source": []
  }
 ],
 "metadata": {
  "kernelspec": {
   "display_name": "Python 3 (ipykernel)",
   "language": "python",
   "name": "python3"
  },
  "language_info": {
   "codemirror_mode": {
    "name": "ipython",
    "version": 3
   },
   "file_extension": ".py",
   "mimetype": "text/x-python",
   "name": "python",
   "nbconvert_exporter": "python",
   "pygments_lexer": "ipython3",
   "version": "3.9.13"
  }
 },
 "nbformat": 4,
 "nbformat_minor": 5
}
