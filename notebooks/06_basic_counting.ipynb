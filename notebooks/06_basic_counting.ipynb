{
 "cells": [
  {
   "cell_type": "markdown",
   "id": "387c45ac",
   "metadata": {},
   "source": [
    "## Sum Rule"
   ]
  },
  {
   "cell_type": "code",
   "execution_count": 1,
   "id": "2ba9abf1",
   "metadata": {},
   "outputs": [
    {
     "name": "stdout",
     "output_type": "stream",
     "text": [
      "Hi!\n",
      "Hi!\n",
      "Hi!\n",
      "Hi!\n",
      "Hi!\n",
      "Hi!\n",
      "Hi!\n",
      "Hi!\n"
     ]
    }
   ],
   "source": [
    "for _ in range(3):\n",
    "    print('Hi!')\n",
    "for _ in range(5):\n",
    "    print('Hi!')"
   ]
  },
  {
   "cell_type": "markdown",
   "id": "9276d343",
   "metadata": {},
   "source": [
    "Listing all integers from 1 to 10 that are divisible by either 2 or 3."
   ]
  },
  {
   "cell_type": "code",
   "execution_count": 2,
   "id": "f56ed758",
   "metadata": {},
   "outputs": [
    {
     "name": "stdout",
     "output_type": "stream",
     "text": [
      "[2, 3, 4, 6, 8, 9, 10]\n"
     ]
    }
   ],
   "source": [
    "print([n for n in range(1, 11) if n % 2 == 0 or n % 3 == 0])"
   ]
  },
  {
   "cell_type": "markdown",
   "id": "3e012685",
   "metadata": {},
   "source": [
    "### Sets"
   ]
  },
  {
   "cell_type": "code",
   "execution_count": 3,
   "id": "69dbb3cc",
   "metadata": {},
   "outputs": [
    {
     "name": "stdout",
     "output_type": "stream",
     "text": [
      "Duplicates are removed automatically:\n",
      "a={8, 17, 2, 5}\n",
      "b={17, 2, 3, 19, 6}\n",
      "\n",
      "Size of {8, 17, 2, 5} is 4\n",
      "Size of {17, 2, 3, 19, 6} is 5\n",
      "\n",
      "2 belongs to {8, 17, 2, 5}: True\n",
      "5 belongs to {8, 17, 2, 5}: False\n",
      "2 belongs to {17, 2, 3, 19, 6}: True\n",
      "5 belongs to {17, 2, 3, 19, 6}: False\n",
      "\n",
      "Union of {8, 17, 2, 5} and {17, 2, 3, 19, 6}: {2, 3, 5, 6, 8, 17, 19}\n",
      "Intersection of {8, 17, 2, 5} and {17, 2, 3, 19, 6}: {17, 2}\n",
      "\n",
      "Set building:\n",
      "Set of odd numbers of {8, 17, 2, 5} is {17, 5}\n",
      "Set of numbers from {17, 2, 3, 19, 6} that do not belong to {8, 17, 2, 5}: {19, 3, 6}\n"
     ]
    }
   ],
   "source": [
    "a = {5, 2, 8, 17, 2}\n",
    "b = {3, 17, 2, 19, 6, 17}\n",
    "\n",
    "print(f'Duplicates are removed automatically:')\n",
    "print(f'a={a}')\n",
    "print(f'b={b}')\n",
    "print()\n",
    "\n",
    "print(f'Size of {a} is {len(a)}')\n",
    "print(f'Size of {b} is {len(b)}')\n",
    "print()\n",
    "\n",
    "print(f'2 belongs to {a}: {2 in a}')\n",
    "print(f'5 belongs to {a}: {3 in a}')\n",
    "print(f'2 belongs to {b}: {2 in b}')\n",
    "print(f'5 belongs to {b}: {5 in b}')\n",
    "print()\n",
    "\n",
    "print(f'Union of {a} and {b}: {a.union(b)}')\n",
    "print(f'Intersection of {a} and {b}: {a.intersection(b)}')\n",
    "print()\n",
    "\n",
    "print(f'Set building:')\n",
    "print(f'Set of odd numbers of {a} is {set(x for x in a if x % 2 == 1)}')\n",
    "print(f'Set of numbers from {b} that do not belong to {a}:'\n",
    "      f' {set(x for x in b if x not in a)}')\n"
   ]
  },
  {
   "cell_type": "markdown",
   "id": "1647a8a5",
   "metadata": {},
   "source": [
    "## Recursive Counting\n",
    "\n",
    "Listing all paths from $s$ to $t$ in the following network.\n",
    "<img src=\"images/network.png\" width=\"50%\">"
   ]
  },
  {
   "cell_type": "code",
   "execution_count": 4,
   "id": "4ede23c2",
   "metadata": {},
   "outputs": [
    {
     "name": "stdout",
     "output_type": "stream",
     "text": [
      "['s', 'a', 'c', 'd', 't']\n",
      "['s', 'a', 'c', 't']\n",
      "['s', 'a', 'd', 't']\n",
      "['s', 'b', 'c', 'd', 't']\n",
      "['s', 'b', 'c', 't']\n",
      "['s', 'b', 'e', 't']\n"
     ]
    }
   ],
   "source": [
    "from networkx import DiGraph, all_simple_paths, nx_agraph\n",
    "\n",
    "edges = [('s', 'a'), ('s', 'b'), ('a', 'c'), ('a', 'd'), ('b', 'c'),\n",
    "         ('b', 'e'), ('c', 'd'), ('c', 't'), ('d', 't'), ('e', 't')]\n",
    "\n",
    "graph = DiGraph(edges)\n",
    "for path in all_simple_paths(graph, source='s', target='t'):\n",
    "    print(path)\n",
    "nx_agraph.to_agraph(graph).draw('stnetwork.png', prog='dot')"
   ]
  },
  {
   "cell_type": "markdown",
   "id": "fa43ed47",
   "metadata": {},
   "source": [
    "<img src=\"stnetwork.png\">"
   ]
  },
  {
   "cell_type": "markdown",
   "id": "24d1d3c3",
   "metadata": {},
   "source": [
    "## Product Rule"
   ]
  },
  {
   "cell_type": "code",
   "execution_count": 5,
   "id": "89471506",
   "metadata": {},
   "outputs": [
    {
     "name": "stdout",
     "output_type": "stream",
     "text": [
      "u 8\n",
      "u 2\n",
      "u 5\n",
      "e 8\n",
      "e 2\n",
      "e 5\n"
     ]
    }
   ],
   "source": [
    "for letter in {'e', 'u'}:\n",
    "    for digit in {8, 2, 5}:\n",
    "        print(letter, digit)"
   ]
  },
  {
   "cell_type": "code",
   "execution_count": 6,
   "id": "4d0127ef",
   "metadata": {},
   "outputs": [
    {
     "name": "stdout",
     "output_type": "stream",
     "text": [
      "u8\n",
      "u2\n",
      "u5\n",
      "e8\n",
      "e2\n",
      "e5\n"
     ]
    }
   ],
   "source": [
    "from itertools import product\n",
    "\n",
    "for t in product({'e', 'u'}, {8, 2, 5}):\n",
    "    print(*t, sep='')"
   ]
  },
  {
   "cell_type": "markdown",
   "id": "5cce94a8",
   "metadata": {},
   "source": [
    "## Tuples and Permutations\n",
    "\n",
    "Enumerating all passwords consisting of two lower case Latin letters."
   ]
  },
  {
   "cell_type": "code",
   "execution_count": 7,
   "id": "fcebf4b9",
   "metadata": {},
   "outputs": [
    {
     "name": "stdout",
     "output_type": "stream",
     "text": [
      "0 aa 1 ab 2 ac 3 ad 4 ae 5 af 6 ag 7 ah 8 ai 9 aj 10 ak 11 al 12 am 13 an 14 ao 15 ap 16 aq 17 ar 18 as 19 at 20 au 21 av 22 aw 23 ax 24 ay 25 az 26 ba 27 bb 28 bc 29 bd 30 be 31 bf 32 bg 33 bh 34 bi 35 bj 36 bk 37 bl 38 bm 39 bn 40 bo 41 bp 42 bq 43 br 44 bs 45 bt 46 bu 47 bv 48 bw 49 bx 50 by 51 bz 52 ca 53 cb 54 cc 55 cd 56 ce 57 cf 58 cg 59 ch 60 ci 61 cj 62 ck 63 cl 64 cm 65 cn 66 co 67 cp 68 cq 69 cr 70 cs 71 ct 72 cu 73 cv 74 cw 75 cx 76 cy 77 cz 78 da 79 db 80 dc 81 dd 82 de 83 df 84 dg 85 dh 86 di 87 dj 88 dk 89 dl 90 dm 91 dn 92 do 93 dp 94 dq 95 dr 96 ds 97 dt 98 du 99 dv 100 dw 101 dx 102 dy 103 dz 104 ea 105 eb 106 ec 107 ed 108 ee 109 ef 110 eg 111 eh 112 ei 113 ej 114 ek 115 el 116 em 117 en 118 eo 119 ep 120 eq 121 er 122 es 123 et 124 eu 125 ev 126 ew 127 ex 128 ey 129 ez 130 fa 131 fb 132 fc 133 fd 134 fe 135 ff 136 fg 137 fh 138 fi 139 fj 140 fk 141 fl 142 fm 143 fn 144 fo 145 fp 146 fq 147 fr 148 fs 149 ft 150 fu 151 fv 152 fw 153 fx 154 fy 155 fz 156 ga 157 gb 158 gc 159 gd 160 ge 161 gf 162 gg 163 gh 164 gi 165 gj 166 gk 167 gl 168 gm 169 gn 170 go 171 gp 172 gq 173 gr 174 gs 175 gt 176 gu 177 gv 178 gw 179 gx 180 gy 181 gz 182 ha 183 hb 184 hc 185 hd 186 he 187 hf 188 hg 189 hh 190 hi 191 hj 192 hk 193 hl 194 hm 195 hn 196 ho 197 hp 198 hq 199 hr 200 hs 201 ht 202 hu 203 hv 204 hw 205 hx 206 hy 207 hz 208 ia 209 ib 210 ic 211 id 212 ie 213 if 214 ig 215 ih 216 ii 217 ij 218 ik 219 il 220 im 221 in 222 io 223 ip 224 iq 225 ir 226 is 227 it 228 iu 229 iv 230 iw 231 ix 232 iy 233 iz 234 ja 235 jb 236 jc 237 jd 238 je 239 jf 240 jg 241 jh 242 ji 243 jj 244 jk 245 jl 246 jm 247 jn 248 jo 249 jp 250 jq 251 jr 252 js 253 jt 254 ju 255 jv 256 jw 257 jx 258 jy 259 jz 260 ka 261 kb 262 kc 263 kd 264 ke 265 kf 266 kg 267 kh 268 ki 269 kj 270 kk 271 kl 272 km 273 kn 274 ko 275 kp 276 kq 277 kr 278 ks 279 kt 280 ku 281 kv 282 kw 283 kx 284 ky 285 kz 286 la 287 lb 288 lc 289 ld 290 le 291 lf 292 lg 293 lh 294 li 295 lj 296 lk 297 ll 298 lm 299 ln 300 lo 301 lp 302 lq 303 lr 304 ls 305 lt 306 lu 307 lv 308 lw 309 lx 310 ly 311 lz 312 ma 313 mb 314 mc 315 md 316 me 317 mf 318 mg 319 mh 320 mi 321 mj 322 mk 323 ml 324 mm 325 mn 326 mo 327 mp 328 mq 329 mr 330 ms 331 mt 332 mu 333 mv 334 mw 335 mx 336 my 337 mz 338 na 339 nb 340 nc 341 nd 342 ne 343 nf 344 ng 345 nh 346 ni 347 nj 348 nk 349 nl 350 nm 351 nn 352 no 353 np 354 nq 355 nr 356 ns 357 nt 358 nu 359 nv 360 nw 361 nx 362 ny 363 nz 364 oa 365 ob 366 oc 367 od 368 oe 369 of 370 og 371 oh 372 oi 373 oj 374 ok 375 ol 376 om 377 on 378 oo 379 op 380 oq 381 or 382 os 383 ot 384 ou 385 ov 386 ow 387 ox 388 oy 389 oz 390 pa 391 pb 392 pc 393 pd 394 pe 395 pf 396 pg 397 ph 398 pi 399 pj 400 pk 401 pl 402 pm 403 pn 404 po 405 pp 406 pq 407 pr 408 ps 409 pt 410 pu 411 pv 412 pw 413 px 414 py 415 pz 416 qa 417 qb 418 qc 419 qd 420 qe 421 qf 422 qg 423 qh 424 qi 425 qj 426 qk 427 ql 428 qm 429 qn 430 qo 431 qp 432 qq 433 qr 434 qs 435 qt 436 qu 437 qv 438 qw 439 qx 440 qy 441 qz 442 ra 443 rb 444 rc 445 rd 446 re 447 rf 448 rg 449 rh 450 ri 451 rj 452 rk 453 rl 454 rm 455 rn 456 ro 457 rp 458 rq 459 rr 460 rs 461 rt 462 ru 463 rv 464 rw 465 rx 466 ry 467 rz 468 sa 469 sb 470 sc 471 sd 472 se 473 sf 474 sg 475 sh 476 si 477 sj 478 sk 479 sl 480 sm 481 sn 482 so 483 sp 484 sq 485 sr 486 ss 487 st 488 su 489 sv 490 sw 491 sx 492 sy 493 sz 494 ta 495 tb 496 tc 497 td 498 te 499 tf 500 tg 501 th 502 ti 503 tj 504 tk 505 tl 506 tm 507 tn 508 to 509 tp 510 tq 511 tr 512 ts 513 tt 514 tu 515 tv 516 tw 517 tx 518 ty 519 tz 520 ua 521 ub 522 uc 523 ud 524 ue 525 uf 526 ug 527 uh 528 ui 529 uj 530 uk 531 ul 532 um 533 un 534 uo 535 up 536 uq 537 ur 538 us 539 ut 540 uu 541 uv 542 uw 543 ux 544 uy 545 uz 546 va 547 vb 548 vc 549 vd 550 ve 551 vf 552 vg 553 vh 554 vi 555 vj 556 vk 557 vl 558 vm 559 vn 560 vo 561 vp 562 vq 563 vr 564 vs 565 vt 566 vu 567 vv 568 vw 569 vx 570 vy 571 vz 572 wa 573 wb 574 wc 575 wd 576 we 577 wf 578 wg 579 wh 580 wi 581 wj 582 wk 583 wl 584 wm 585 wn 586 wo 587 wp 588 wq 589 wr 590 ws 591 wt 592 wu 593 wv 594 ww 595 wx 596 wy 597 wz 598 xa 599 xb 600 xc 601 xd 602 xe 603 xf 604 xg 605 xh 606 xi 607 xj 608 xk 609 xl 610 xm 611 xn 612 xo 613 xp 614 xq 615 xr 616 xs 617 xt 618 xu 619 xv 620 xw 621 xx 622 xy 623 xz 624 ya 625 yb 626 yc 627 yd 628 ye 629 yf 630 yg 631 yh 632 yi 633 yj 634 yk 635 yl 636 ym 637 yn 638 yo 639 yp 640 yq 641 yr 642 ys 643 yt 644 yu 645 yv 646 yw 647 yx 648 yy 649 yz 650 za 651 zb 652 zc 653 zd 654 ze 655 zf 656 zg 657 zh 658 zi 659 zj 660 zk 661 zl 662 zm 663 zn 664 zo 665 zp 666 zq 667 zr 668 zs 669 zt 670 zu 671 zv 672 zw 673 zx 674 zy 675 zz "
     ]
    }
   ],
   "source": [
    "from itertools import product\n",
    "\n",
    "for number, password in enumerate(\n",
    "        product('abcdefghijklmnopqrstuvwxyz', repeat=2)\n",
    "):\n",
    "    print(number, ''.join(password), end=' ')"
   ]
  },
  {
   "cell_type": "markdown",
   "id": "a88db110",
   "metadata": {},
   "source": [
    "Counting integers from 0 to 9999 having exactly one digit 7."
   ]
  },
  {
   "cell_type": "code",
   "execution_count": 8,
   "id": "df6c6d04",
   "metadata": {},
   "outputs": [
    {
     "name": "stdout",
     "output_type": "stream",
     "text": [
      "2916\n",
      "2916\n"
     ]
    }
   ],
   "source": [
    "from itertools import product\n",
    "\n",
    "print(len([n for n in range(10000)\n",
    "           if str(n).count('7') == 1]))\n",
    "print(len([t for t in product(range(10), repeat=4)\n",
    "           if t.count(7) == 1]))"
   ]
  },
  {
   "cell_type": "markdown",
   "id": "445d48a9",
   "metadata": {},
   "source": [
    "Counting integers from 0 to 9999 having *at least* one digit 7."
   ]
  },
  {
   "cell_type": "code",
   "execution_count": 9,
   "id": "c58f1909",
   "metadata": {},
   "outputs": [
    {
     "name": "stdout",
     "output_type": "stream",
     "text": [
      "3439\n"
     ]
    }
   ],
   "source": [
    "print(len([n for n in range(10000) if '7' in str(n)]))"
   ]
  },
  {
   "cell_type": "markdown",
   "id": "c5571544",
   "metadata": {},
   "source": [
    "### Permutations"
   ]
  },
  {
   "cell_type": "code",
   "execution_count": 10,
   "id": "11955472",
   "metadata": {},
   "outputs": [
    {
     "name": "stdout",
     "output_type": "stream",
     "text": [
      "a b\n",
      "a c\n",
      "b a\n",
      "b c\n",
      "c a\n",
      "c b\n"
     ]
    }
   ],
   "source": [
    "from itertools import permutations\n",
    "\n",
    "for p in permutations('abc', 2):\n",
    "    print(*p)"
   ]
  },
  {
   "cell_type": "code",
   "execution_count": null,
   "id": "01ebbf1d",
   "metadata": {},
   "outputs": [],
   "source": []
  }
 ],
 "metadata": {
  "kernelspec": {
   "display_name": "Python 3 (ipykernel)",
   "language": "python",
   "name": "python3"
  },
  "language_info": {
   "codemirror_mode": {
    "name": "ipython",
    "version": 3
   },
   "file_extension": ".py",
   "mimetype": "text/x-python",
   "name": "python",
   "nbconvert_exporter": "python",
   "pygments_lexer": "ipython3",
   "version": "3.9.13"
  }
 },
 "nbformat": 4,
 "nbformat_minor": 5
}
